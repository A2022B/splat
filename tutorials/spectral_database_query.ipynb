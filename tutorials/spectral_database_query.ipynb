{
 "cells": [
  {
   "cell_type": "markdown",
   "metadata": {},
   "source": [
    "# SPLAT Tutorials: Database Query Tools\n",
    "\n",
    "## Authors\n",
    "Adam Burgasser\n",
    "\n",
    "## Version date\n",
    "22 July 2021\n",
    "\n",
    "## Learning Goals\n",
    "* Explore some of the data spreadsheet manipulation tools built into SPLAT (splat.database.prepDB)\n",
    "* Learn how to use the astroquery wrappers to get source information (splat.database.getPhotometry, splat.database.querySimbad, splat.database.queryXMatch)\n",
    "\n",
    "## Keywords\n",
    "astroquery, databases\n",
    "\n",
    "## Companion Content\n",
    "None\n",
    "\n",
    "## Summary\n",
    "In this tutorial, we are going to see how to use the splat.database functions to manage source spreadsheets and query online databases for source informaiton.\n"
   ]
  },
  {
   "cell_type": "code",
   "execution_count": 1,
   "metadata": {},
   "outputs": [
    {
     "name": "stdout",
     "output_type": "stream",
     "text": [
      "Adding 1051 sources from /Users/adam/projects/splat/Spectra/SPEX_PRISM/ to spectral database\n",
      "Adding 893 sources from /Users/adam/projects/splat/Spectra/Terrien2015/spectra/ to spectral database\n",
      "Adding 218 sources from /Users/adam/projects/splat/Spectra/LDSS-3/spectra/ to spectral database\n",
      "Adding 89 sources from /Users/adam/projects/splat/code/splat//resources/Spectra/Public/MAGE/ to spectral database\n",
      "Adding 145 sources from /Users/adam/projects/splat/code/splat//resources/Spectra/Public/LRIS-RED/ to spectral database\n",
      "Adding 2404 sources from /Users/adam/projects/splat/code/splat//resources/Spectra/Public/SPEX-PRISM/ to spectral database\n",
      "Adding 44 sources from /Users/adam/projects/splat/Spectra/Mann2014/spectra/ to spectral database\n",
      "Adding 32 sources from /Users/adam/projects/splat/Spectra/LRIS/ to spectral database\n",
      "Dropped 404 duplicates; 4472 remaining\n",
      "Could not import regions, which is required for some of the functionalities of this module.\n"
     ]
    }
   ],
   "source": [
    "# main splat import\n",
    "import splat\n",
    "import splat.database as spdb\n",
    "\n",
    "# other useful imports\n",
    "import matplotlib.pyplot as plt\n",
    "import numpy as np\n",
    "import pandas\n",
    "import astropy.units as u"
   ]
  },
  {
   "cell_type": "markdown",
   "metadata": {},
   "source": [
    "# Prepping datasets\n",
    "\n",
    "SPLAT useds pandas as its default spreadsheet format. There is a simple tool called prepDB available to manage sets of data to assure one has sufficient informaiton to query online catalogs. We're going to explore a couple of cases based on the targets observed by Terrien et al. (2015), for which there are two .csv files in the SPLAT tutorial directory"
   ]
  },
  {
   "cell_type": "code",
   "execution_count": 4,
   "metadata": {},
   "outputs": [
    {
     "data": {
      "text/html": [
       "<div>\n",
       "<style scoped>\n",
       "    .dataframe tbody tr th:only-of-type {\n",
       "        vertical-align: middle;\n",
       "    }\n",
       "\n",
       "    .dataframe tbody tr th {\n",
       "        vertical-align: top;\n",
       "    }\n",
       "\n",
       "    .dataframe thead th {\n",
       "        text-align: right;\n",
       "    }\n",
       "</style>\n",
       "<table border=\"1\" class=\"dataframe\">\n",
       "  <thead>\n",
       "    <tr style=\"text-align: right;\">\n",
       "      <th></th>\n",
       "      <th>RA</th>\n",
       "      <th>DEC</th>\n",
       "    </tr>\n",
       "  </thead>\n",
       "  <tbody>\n",
       "    <tr>\n",
       "      <th>0</th>\n",
       "      <td>1.6802</td>\n",
       "      <td>-7.5374</td>\n",
       "    </tr>\n",
       "    <tr>\n",
       "      <th>1</th>\n",
       "      <td>2.2247</td>\n",
       "      <td>20.8403</td>\n",
       "    </tr>\n",
       "    <tr>\n",
       "      <th>2</th>\n",
       "      <td>2.9709</td>\n",
       "      <td>22.9847</td>\n",
       "    </tr>\n",
       "    <tr>\n",
       "      <th>3</th>\n",
       "      <td>4.2346</td>\n",
       "      <td>5.1239</td>\n",
       "    </tr>\n",
       "    <tr>\n",
       "      <th>4</th>\n",
       "      <td>4.5940</td>\n",
       "      <td>44.0228</td>\n",
       "    </tr>\n",
       "    <tr>\n",
       "      <th>...</th>\n",
       "      <td>...</td>\n",
       "      <td>...</td>\n",
       "    </tr>\n",
       "    <tr>\n",
       "      <th>346</th>\n",
       "      <td>356.5586</td>\n",
       "      <td>28.4343</td>\n",
       "    </tr>\n",
       "    <tr>\n",
       "      <th>347</th>\n",
       "      <td>357.3126</td>\n",
       "      <td>10.0940</td>\n",
       "    </tr>\n",
       "    <tr>\n",
       "      <th>348</th>\n",
       "      <td>357.4744</td>\n",
       "      <td>27.3613</td>\n",
       "    </tr>\n",
       "    <tr>\n",
       "      <th>349</th>\n",
       "      <td>357.6316</td>\n",
       "      <td>-9.5589</td>\n",
       "    </tr>\n",
       "    <tr>\n",
       "      <th>350</th>\n",
       "      <td>359.2296</td>\n",
       "      <td>23.0843</td>\n",
       "    </tr>\n",
       "  </tbody>\n",
       "</table>\n",
       "<p>351 rows × 2 columns</p>\n",
       "</div>"
      ],
      "text/plain": [
       "           RA      DEC\n",
       "0      1.6802  -7.5374\n",
       "1      2.2247  20.8403\n",
       "2      2.9709  22.9847\n",
       "3      4.2346   5.1239\n",
       "4      4.5940  44.0228\n",
       "..        ...      ...\n",
       "346  356.5586  28.4343\n",
       "347  357.3126  10.0940\n",
       "348  357.4744  27.3613\n",
       "349  357.6316  -9.5589\n",
       "350  359.2296  23.0843\n",
       "\n",
       "[351 rows x 2 columns]"
      ]
     },
     "execution_count": 4,
     "metadata": {},
     "output_type": "execute_result"
    }
   ],
   "source": [
    "# let's start with a folder of RA & DEC\n",
    "db = pandas.read_csv(splat.SPLAT_PATH+splat.TUTORIAL_FOLDER+'terrien2015_radec.csv')\n",
    "db"
   ]
  },
  {
   "cell_type": "code",
   "execution_count": 6,
   "metadata": {},
   "outputs": [
    {
     "data": {
      "text/html": [
       "<div>\n",
       "<style scoped>\n",
       "    .dataframe tbody tr th:only-of-type {\n",
       "        vertical-align: middle;\n",
       "    }\n",
       "\n",
       "    .dataframe tbody tr th {\n",
       "        vertical-align: top;\n",
       "    }\n",
       "\n",
       "    .dataframe thead th {\n",
       "        text-align: right;\n",
       "    }\n",
       "</style>\n",
       "<table border=\"1\" class=\"dataframe\">\n",
       "  <thead>\n",
       "    <tr style=\"text-align: right;\">\n",
       "      <th></th>\n",
       "      <th>RA</th>\n",
       "      <th>DEC</th>\n",
       "      <th>DESIGNATION</th>\n",
       "      <th>COORDINATES</th>\n",
       "    </tr>\n",
       "  </thead>\n",
       "  <tbody>\n",
       "    <tr>\n",
       "      <th>0</th>\n",
       "      <td>1.6802</td>\n",
       "      <td>-7.5374</td>\n",
       "      <td>J00064325-0732146</td>\n",
       "      <td>&lt;SkyCoord (ICRS): (ra, dec) in deg\\n    (1.680...</td>\n",
       "    </tr>\n",
       "    <tr>\n",
       "      <th>1</th>\n",
       "      <td>2.2247</td>\n",
       "      <td>20.8403</td>\n",
       "      <td>J00085393+2050251</td>\n",
       "      <td>&lt;SkyCoord (ICRS): (ra, dec) in deg\\n    (2.224...</td>\n",
       "    </tr>\n",
       "    <tr>\n",
       "      <th>2</th>\n",
       "      <td>2.9709</td>\n",
       "      <td>22.9847</td>\n",
       "      <td>J00115302+2259049</td>\n",
       "      <td>&lt;SkyCoord (ICRS): (ra, dec) in deg\\n    (2.970...</td>\n",
       "    </tr>\n",
       "    <tr>\n",
       "      <th>3</th>\n",
       "      <td>4.2346</td>\n",
       "      <td>5.1239</td>\n",
       "      <td>J00165630+0507260</td>\n",
       "      <td>&lt;SkyCoord (ICRS): (ra, dec) in deg\\n    (4.234...</td>\n",
       "    </tr>\n",
       "    <tr>\n",
       "      <th>4</th>\n",
       "      <td>4.5940</td>\n",
       "      <td>44.0228</td>\n",
       "      <td>J00182256+4401221</td>\n",
       "      <td>&lt;SkyCoord (ICRS): (ra, dec) in deg\\n    (4.594...</td>\n",
       "    </tr>\n",
       "    <tr>\n",
       "      <th>...</th>\n",
       "      <td>...</td>\n",
       "      <td>...</td>\n",
       "      <td>...</td>\n",
       "      <td>...</td>\n",
       "    </tr>\n",
       "    <tr>\n",
       "      <th>346</th>\n",
       "      <td>356.5586</td>\n",
       "      <td>28.4343</td>\n",
       "      <td>J23461406+2826035</td>\n",
       "      <td>&lt;SkyCoord (ICRS): (ra, dec) in deg\\n    (356.5...</td>\n",
       "    </tr>\n",
       "    <tr>\n",
       "      <th>347</th>\n",
       "      <td>357.3126</td>\n",
       "      <td>10.0940</td>\n",
       "      <td>J23491502+1005384</td>\n",
       "      <td>&lt;SkyCoord (ICRS): (ra, dec) in deg\\n    (357.3...</td>\n",
       "    </tr>\n",
       "    <tr>\n",
       "      <th>348</th>\n",
       "      <td>357.4744</td>\n",
       "      <td>27.3613</td>\n",
       "      <td>J23495386+2721407</td>\n",
       "      <td>&lt;SkyCoord (ICRS): (ra, dec) in deg\\n    (357.4...</td>\n",
       "    </tr>\n",
       "    <tr>\n",
       "      <th>349</th>\n",
       "      <td>357.6316</td>\n",
       "      <td>-9.5589</td>\n",
       "      <td>J23503158-0933320</td>\n",
       "      <td>&lt;SkyCoord (ICRS): (ra, dec) in deg\\n    (357.6...</td>\n",
       "    </tr>\n",
       "    <tr>\n",
       "      <th>350</th>\n",
       "      <td>359.2296</td>\n",
       "      <td>23.0843</td>\n",
       "      <td>J23565510+2305035</td>\n",
       "      <td>&lt;SkyCoord (ICRS): (ra, dec) in deg\\n    (359.2...</td>\n",
       "    </tr>\n",
       "  </tbody>\n",
       "</table>\n",
       "<p>351 rows × 4 columns</p>\n",
       "</div>"
      ],
      "text/plain": [
       "           RA      DEC        DESIGNATION  \\\n",
       "0      1.6802  -7.5374  J00064325-0732146   \n",
       "1      2.2247  20.8403  J00085393+2050251   \n",
       "2      2.9709  22.9847  J00115302+2259049   \n",
       "3      4.2346   5.1239  J00165630+0507260   \n",
       "4      4.5940  44.0228  J00182256+4401221   \n",
       "..        ...      ...                ...   \n",
       "346  356.5586  28.4343  J23461406+2826035   \n",
       "347  357.3126  10.0940  J23491502+1005384   \n",
       "348  357.4744  27.3613  J23495386+2721407   \n",
       "349  357.6316  -9.5589  J23503158-0933320   \n",
       "350  359.2296  23.0843  J23565510+2305035   \n",
       "\n",
       "                                           COORDINATES  \n",
       "0    <SkyCoord (ICRS): (ra, dec) in deg\\n    (1.680...  \n",
       "1    <SkyCoord (ICRS): (ra, dec) in deg\\n    (2.224...  \n",
       "2    <SkyCoord (ICRS): (ra, dec) in deg\\n    (2.970...  \n",
       "3    <SkyCoord (ICRS): (ra, dec) in deg\\n    (4.234...  \n",
       "4    <SkyCoord (ICRS): (ra, dec) in deg\\n    (4.594...  \n",
       "..                                                 ...  \n",
       "346  <SkyCoord (ICRS): (ra, dec) in deg\\n    (356.5...  \n",
       "347  <SkyCoord (ICRS): (ra, dec) in deg\\n    (357.3...  \n",
       "348  <SkyCoord (ICRS): (ra, dec) in deg\\n    (357.4...  \n",
       "349  <SkyCoord (ICRS): (ra, dec) in deg\\n    (357.6...  \n",
       "350  <SkyCoord (ICRS): (ra, dec) in deg\\n    (359.2...  \n",
       "\n",
       "[351 rows x 4 columns]"
      ]
     },
     "execution_count": 6,
     "metadata": {},
     "output_type": "execute_result"
    }
   ],
   "source": [
    "# add in the necessary information for queries with prepDB\n",
    "# this adds in columns for designation and SkyCoord coordinates\n",
    "db = spdb.prepDB(db)\n",
    "db"
   ]
  },
  {
   "cell_type": "code",
   "execution_count": 7,
   "metadata": {},
   "outputs": [
    {
     "data": {
      "text/html": [
       "<div>\n",
       "<style scoped>\n",
       "    .dataframe tbody tr th:only-of-type {\n",
       "        vertical-align: middle;\n",
       "    }\n",
       "\n",
       "    .dataframe tbody tr th {\n",
       "        vertical-align: top;\n",
       "    }\n",
       "\n",
       "    .dataframe thead th {\n",
       "        text-align: right;\n",
       "    }\n",
       "</style>\n",
       "<table border=\"1\" class=\"dataframe\">\n",
       "  <thead>\n",
       "    <tr style=\"text-align: right;\">\n",
       "      <th></th>\n",
       "      <th>DESIGNATION</th>\n",
       "    </tr>\n",
       "  </thead>\n",
       "  <tbody>\n",
       "    <tr>\n",
       "      <th>0</th>\n",
       "      <td>J00064325-0732147</td>\n",
       "    </tr>\n",
       "    <tr>\n",
       "      <th>1</th>\n",
       "      <td>J00085391+2050252</td>\n",
       "    </tr>\n",
       "    <tr>\n",
       "      <th>2</th>\n",
       "      <td>J00115302+2259047</td>\n",
       "    </tr>\n",
       "    <tr>\n",
       "      <th>3</th>\n",
       "      <td>J00165629+0507261</td>\n",
       "    </tr>\n",
       "    <tr>\n",
       "      <th>4</th>\n",
       "      <td>J00182256+4401222</td>\n",
       "    </tr>\n",
       "    <tr>\n",
       "      <th>...</th>\n",
       "      <td>...</td>\n",
       "    </tr>\n",
       "    <tr>\n",
       "      <th>346</th>\n",
       "      <td>J23461405+2826036</td>\n",
       "    </tr>\n",
       "    <tr>\n",
       "      <th>347</th>\n",
       "      <td>J23491501+1005385</td>\n",
       "    </tr>\n",
       "    <tr>\n",
       "      <th>348</th>\n",
       "      <td>J23495384+2721406</td>\n",
       "    </tr>\n",
       "    <tr>\n",
       "      <th>349</th>\n",
       "      <td>J23503159-0933320</td>\n",
       "    </tr>\n",
       "    <tr>\n",
       "      <th>350</th>\n",
       "      <td>J23565510+2305033</td>\n",
       "    </tr>\n",
       "  </tbody>\n",
       "</table>\n",
       "<p>351 rows × 1 columns</p>\n",
       "</div>"
      ],
      "text/plain": [
       "           DESIGNATION\n",
       "0    J00064325-0732147\n",
       "1    J00085391+2050252\n",
       "2    J00115302+2259047\n",
       "3    J00165629+0507261\n",
       "4    J00182256+4401222\n",
       "..                 ...\n",
       "346  J23461405+2826036\n",
       "347  J23491501+1005385\n",
       "348  J23495384+2721406\n",
       "349  J23503159-0933320\n",
       "350  J23565510+2305033\n",
       "\n",
       "[351 rows x 1 columns]"
      ]
     },
     "execution_count": 7,
     "metadata": {},
     "output_type": "execute_result"
    }
   ],
   "source": [
    "# alternately let's assume we have a file that contains only designations\n",
    "db = pandas.read_csv(splat.SPLAT_PATH+splat.TUTORIAL_FOLDER+'terrien2015_designations.csv')\n",
    "db"
   ]
  },
  {
   "cell_type": "code",
   "execution_count": 8,
   "metadata": {},
   "outputs": [
    {
     "data": {
      "text/html": [
       "<div>\n",
       "<style scoped>\n",
       "    .dataframe tbody tr th:only-of-type {\n",
       "        vertical-align: middle;\n",
       "    }\n",
       "\n",
       "    .dataframe tbody tr th {\n",
       "        vertical-align: top;\n",
       "    }\n",
       "\n",
       "    .dataframe thead th {\n",
       "        text-align: right;\n",
       "    }\n",
       "</style>\n",
       "<table border=\"1\" class=\"dataframe\">\n",
       "  <thead>\n",
       "    <tr style=\"text-align: right;\">\n",
       "      <th></th>\n",
       "      <th>DESIGNATION</th>\n",
       "      <th>COORDINATES</th>\n",
       "      <th>RA</th>\n",
       "      <th>DEC</th>\n",
       "    </tr>\n",
       "  </thead>\n",
       "  <tbody>\n",
       "    <tr>\n",
       "      <th>0</th>\n",
       "      <td>J00064325-0732147</td>\n",
       "      <td>&lt;SkyCoord (ICRS): (ra, dec) in deg\\n    (1.680...</td>\n",
       "      <td>1.680208</td>\n",
       "      <td>-7.537242</td>\n",
       "    </tr>\n",
       "    <tr>\n",
       "      <th>1</th>\n",
       "      <td>J00085391+2050252</td>\n",
       "      <td>&lt;SkyCoord (ICRS): (ra, dec) in deg\\n    (2.224...</td>\n",
       "      <td>2.224625</td>\n",
       "      <td>20.840283</td>\n",
       "    </tr>\n",
       "    <tr>\n",
       "      <th>2</th>\n",
       "      <td>J00115302+2259047</td>\n",
       "      <td>&lt;SkyCoord (ICRS): (ra, dec) in deg\\n    (2.970...</td>\n",
       "      <td>2.970917</td>\n",
       "      <td>22.984464</td>\n",
       "    </tr>\n",
       "    <tr>\n",
       "      <th>3</th>\n",
       "      <td>J00165629+0507261</td>\n",
       "      <td>&lt;SkyCoord (ICRS): (ra, dec) in deg\\n    (4.234...</td>\n",
       "      <td>4.234542</td>\n",
       "      <td>5.123892</td>\n",
       "    </tr>\n",
       "    <tr>\n",
       "      <th>4</th>\n",
       "      <td>J00182256+4401222</td>\n",
       "      <td>&lt;SkyCoord (ICRS): (ra, dec) in deg\\n    (4.594...</td>\n",
       "      <td>4.594000</td>\n",
       "      <td>44.022783</td>\n",
       "    </tr>\n",
       "    <tr>\n",
       "      <th>...</th>\n",
       "      <td>...</td>\n",
       "      <td>...</td>\n",
       "      <td>...</td>\n",
       "      <td>...</td>\n",
       "    </tr>\n",
       "    <tr>\n",
       "      <th>346</th>\n",
       "      <td>J23461405+2826036</td>\n",
       "      <td>&lt;SkyCoord (ICRS): (ra, dec) in deg\\n    (356.5...</td>\n",
       "      <td>356.558542</td>\n",
       "      <td>28.434183</td>\n",
       "    </tr>\n",
       "    <tr>\n",
       "      <th>347</th>\n",
       "      <td>J23491501+1005385</td>\n",
       "      <td>&lt;SkyCoord (ICRS): (ra, dec) in deg\\n    (357.3...</td>\n",
       "      <td>357.312542</td>\n",
       "      <td>10.093903</td>\n",
       "    </tr>\n",
       "    <tr>\n",
       "      <th>348</th>\n",
       "      <td>J23495384+2721406</td>\n",
       "      <td>&lt;SkyCoord (ICRS): (ra, dec) in deg\\n    (357.4...</td>\n",
       "      <td>357.474333</td>\n",
       "      <td>27.361128</td>\n",
       "    </tr>\n",
       "    <tr>\n",
       "      <th>349</th>\n",
       "      <td>J23503159-0933320</td>\n",
       "      <td>&lt;SkyCoord (ICRS): (ra, dec) in deg\\n    (357.6...</td>\n",
       "      <td>357.631625</td>\n",
       "      <td>-9.558889</td>\n",
       "    </tr>\n",
       "    <tr>\n",
       "      <th>350</th>\n",
       "      <td>J23565510+2305033</td>\n",
       "      <td>&lt;SkyCoord (ICRS): (ra, dec) in deg\\n    (359.2...</td>\n",
       "      <td>359.229583</td>\n",
       "      <td>23.084175</td>\n",
       "    </tr>\n",
       "  </tbody>\n",
       "</table>\n",
       "<p>351 rows × 4 columns</p>\n",
       "</div>"
      ],
      "text/plain": [
       "           DESIGNATION                                        COORDINATES  \\\n",
       "0    J00064325-0732147  <SkyCoord (ICRS): (ra, dec) in deg\\n    (1.680...   \n",
       "1    J00085391+2050252  <SkyCoord (ICRS): (ra, dec) in deg\\n    (2.224...   \n",
       "2    J00115302+2259047  <SkyCoord (ICRS): (ra, dec) in deg\\n    (2.970...   \n",
       "3    J00165629+0507261  <SkyCoord (ICRS): (ra, dec) in deg\\n    (4.234...   \n",
       "4    J00182256+4401222  <SkyCoord (ICRS): (ra, dec) in deg\\n    (4.594...   \n",
       "..                 ...                                                ...   \n",
       "346  J23461405+2826036  <SkyCoord (ICRS): (ra, dec) in deg\\n    (356.5...   \n",
       "347  J23491501+1005385  <SkyCoord (ICRS): (ra, dec) in deg\\n    (357.3...   \n",
       "348  J23495384+2721406  <SkyCoord (ICRS): (ra, dec) in deg\\n    (357.4...   \n",
       "349  J23503159-0933320  <SkyCoord (ICRS): (ra, dec) in deg\\n    (357.6...   \n",
       "350  J23565510+2305033  <SkyCoord (ICRS): (ra, dec) in deg\\n    (359.2...   \n",
       "\n",
       "             RA        DEC  \n",
       "0      1.680208  -7.537242  \n",
       "1      2.224625  20.840283  \n",
       "2      2.970917  22.984464  \n",
       "3      4.234542   5.123892  \n",
       "4      4.594000  44.022783  \n",
       "..          ...        ...  \n",
       "346  356.558542  28.434183  \n",
       "347  357.312542  10.093903  \n",
       "348  357.474333  27.361128  \n",
       "349  357.631625  -9.558889  \n",
       "350  359.229583  23.084175  \n",
       "\n",
       "[351 rows x 4 columns]"
      ]
     },
     "execution_count": 8,
     "metadata": {},
     "output_type": "execute_result"
    }
   ],
   "source": [
    "# prepDB will adds in the columns for RA, Dec and SkyCoord coordinates\n",
    "db = spdb.prepDB(db)\n",
    "db"
   ]
  },
  {
   "cell_type": "markdown",
   "metadata": {},
   "source": [
    "# Getting photometry with getPhotometry\n",
    "\n",
    "The ``splat.database.getPhotometry()`` is a wrapper for astroquery.Vizier, allowing you to query the Vizier network of catalogs to find relevant photometry and other information, as well as SIMBAD. This code is particularly well suited for searching on source at a time; for a large number of sources it is probably better to use ``splat.database.queryXMatch()``. To start, let's find 2MASS, SDSS and WISE data for one "
   ]
  },
  {
   "cell_type": "code",
   "execution_count": null,
   "metadata": {},
   "outputs": [],
   "source": [
    "# selecting by spectral type range and signal-to-noise (value given is minimum S/N)\n",
    "dp = splat.searchLibrary(spt=['L5','L8'],snr=50)\n",
    "dp"
   ]
  },
  {
   "cell_type": "code",
   "execution_count": null,
   "metadata": {},
   "outputs": [],
   "source": [
    "# selecting by OPTICAL spectral type range and signal-to-noise (value given is minimum S/N)\n",
    "dp = splat.searchLibrary(opt_spt=['L5','L8'],snr=50)\n",
    "dp"
   ]
  },
  {
   "cell_type": "code",
   "execution_count": null,
   "metadata": {},
   "outputs": [],
   "source": [
    "# select young L dwarfs\n",
    "dp = splat.searchLibrary(opt_spt=['L0','L9'],young=True)\n",
    "dp"
   ]
  },
  {
   "cell_type": "code",
   "execution_count": null,
   "metadata": {},
   "outputs": [],
   "source": [
    "# select metal-poor L dwarfs\n",
    "dp = splat.searchLibrary(opt_spt=['L0','L9'],subdwarf=True)\n",
    "dp"
   ]
  },
  {
   "cell_type": "code",
   "execution_count": null,
   "metadata": {},
   "outputs": [],
   "source": [
    "# select giants\n",
    "dp = splat.searchLibrary(giant=True)\n",
    "dp"
   ]
  },
  {
   "cell_type": "markdown",
   "metadata": {},
   "source": [
    "# Reading in the spectra\n",
    "\n",
    "Once you've identified the spectra you want, you can read them in based on the spreadsheet info or splat.getSpectrum(). Be sure you have a manageable list!"
   ]
  },
  {
   "cell_type": "code",
   "execution_count": null,
   "metadata": {},
   "outputs": [],
   "source": [
    "# select metal-poor L dwarfs\n",
    "# then read in using the data key\n",
    "dp = splat.searchLibrary(opt_spt=['L0','L9'],subdwarf=True)\n",
    "splist = []\n",
    "for i in dp['DATA_KEY']:\n",
    "    splist.append(splat.Spectrum(i))\n",
    "    print('Read in spectrum of {}'.format(splist[-1].name))\n",
    "splist"
   ]
  },
  {
   "cell_type": "code",
   "execution_count": null,
   "metadata": {},
   "outputs": [],
   "source": [
    "# do the same but read in by filename\n",
    "dp = splat.searchLibrary(opt_spt=['L0','L9'],subdwarf=True)\n",
    "splist = []\n",
    "for f in dp['DATA_FILE']:\n",
    "    splist.append(splat.Spectrum(file=f))\n",
    "    print('Read in spectrum of {}'.format(splist[-1].name))\n",
    "splist"
   ]
  },
  {
   "cell_type": "code",
   "execution_count": null,
   "metadata": {},
   "outputs": [],
   "source": [
    "# the same syntax can be used to read in a list of spectra using splat.getSpectrum()\n",
    "splist = splat.getSpectrum(opt_spt=['L0','L9'],subdwarf=True)\n",
    "splist"
   ]
  },
  {
   "cell_type": "markdown",
   "metadata": {},
   "source": [
    "# Measurements on samples of spectra\n",
    "\n",
    "We can add measurements to the pandas spreadsheet created by searchLibrary(), a convenient way to manage and save analyses"
   ]
  },
  {
   "cell_type": "code",
   "execution_count": null,
   "metadata": {},
   "outputs": [],
   "source": [
    "# let's measure the classifications of our sources\n",
    "dp = splat.searchLibrary(opt_spt=['L0','L9'],subdwarf=True)\n",
    "dp['SPEX_SPT'] = ['']*len(dp)\n",
    "# note the use of enumerate here\n",
    "for i,f in enumerate(dp['DATA_FILE']):\n",
    "    sp = splat.Spectrum(file=f)\n",
    "    spt,spt_e = splat.classifyByStandard(sp,method='kirkpatrick')\n",
    "    dp['SPEX_SPT'].iloc[i] = spt\n",
    "dp['SPEX_SPT']"
   ]
  },
  {
   "cell_type": "code",
   "execution_count": null,
   "metadata": {},
   "outputs": [],
   "source": [
    "# another way of doing this\n",
    "dp = splat.searchLibrary(opt_spt=['L0','L9'],subdwarf=True)\n",
    "spts = []\n",
    "# note the use of enumerate here\n",
    "for i,f in enumerate(dp['DATA_FILE']):\n",
    "    sp = splat.Spectrum(file=f)\n",
    "    spts.append(splat.classifyByStandard(sp,method='kirkpatrick')[0])\n",
    "dp['SPEX_SPT'] = spts\n",
    "dp['SPEX_SPT']"
   ]
  },
  {
   "cell_type": "code",
   "execution_count": null,
   "metadata": {},
   "outputs": [],
   "source": [
    "# here's how you can measure many indices on the spectra and store them to your pandas dataframe\n",
    "dp = splat.searchLibrary(opt_spt=['L0','L9'],subdwarf=True)\n",
    "\n",
    "# first figure out what indices we're measuring\n",
    "# the names of the indices are in the keys\n",
    "sp = splat.Spectrum(file=dp['DATA_FILE'].iloc[0])\n",
    "ind = splat.measureIndexSet(sp)\n",
    "indices = ind.keys()\n",
    "\n",
    "# add these to the dataframe\n",
    "for i in indices: dp[i] = np.zeros(len(dp))\n",
    "    \n",
    "# now measure all of the spectra\n",
    "for i,f in enumerate(dp['DATA_FILE']):\n",
    "    sp = splat.Spectrum(file=f)\n",
    "    ind = splat.measureIndexSet(sp)\n",
    "    for indname in indices: dp[indname].iloc[i]=ind[indname][0]\n",
    "\n",
    "# print out the values you've measureed\n",
    "dp[indices]\n"
   ]
  },
  {
   "cell_type": "markdown",
   "metadata": {},
   "source": [
    "# Plotting batches of spectra\n",
    "\n",
    "Here's some examples of plotting samples of spectra using either plotSpectrum() or plotBatch(); you can see more examples at this page: https://spl-toolkit.readthedocs.io/en/latest/splat_plot/ "
   ]
  },
  {
   "cell_type": "code",
   "execution_count": null,
   "metadata": {},
   "outputs": [],
   "source": [
    "# learn more about these functions\n",
    "splot.plotSpectrum?"
   ]
  },
  {
   "cell_type": "code",
   "execution_count": null,
   "metadata": {},
   "outputs": [],
   "source": [
    "# learn more about these functions\n",
    "splot.plotBatch?"
   ]
  },
  {
   "cell_type": "code",
   "execution_count": null,
   "metadata": {},
   "outputs": [],
   "source": [
    "# read in batch of spectra\n",
    "splist = splat.getSpectrum(opt_spt=['L0','L9'],subdwarf=True)"
   ]
  },
  {
   "cell_type": "code",
   "execution_count": null,
   "metadata": {},
   "outputs": [],
   "source": [
    "# now plot them all using plotSpectrum with the multiplot option\n",
    "splot.plotSpectrum(splist,multiplot=True)"
   ]
  },
  {
   "cell_type": "code",
   "execution_count": null,
   "metadata": {},
   "outputs": [],
   "source": [
    "# let's clean this up a bit by making a 2x2 grid\n",
    "splot.plotSpectrum(splist,multiplot=True,layout=[2,2])"
   ]
  },
  {
   "cell_type": "code",
   "execution_count": null,
   "metadata": {},
   "outputs": [],
   "source": [
    "# the normalization is not so great here, so lets first normalize the spectra in a certain range\n",
    "# and then set the y-axis range\n",
    "for sp in splist: sp.normalize([0.9,1.4])\n",
    "splot.plotSpectrum(splist,multiplot=True,layout=[2,2],yrange=[-0.05,1.2])"
   ]
  },
  {
   "cell_type": "code",
   "execution_count": null,
   "metadata": {},
   "outputs": [],
   "source": [
    "# now let's add some details, including the legend giving the name of the source\n",
    "# and labeling L dwarf features; we'll also save this out as a multi-page pdf file\n",
    "names = [sp.name for sp in splist]\n",
    "splot.plotSpectrum(splist,multiplot=True,layout=[2,2],yrange=[-0.05,1.2],legend=names,features=['h2o','feh','co'],telluric=True,grid=True,multipage=True,file='myplot.pdf')\n"
   ]
  },
  {
   "cell_type": "code",
   "execution_count": null,
   "metadata": {},
   "outputs": [],
   "source": [
    "# plotBatch does many of these tasks in a compact way; here's the baseline call\n",
    "splot.plotBatch(splist)\n"
   ]
  },
  {
   "cell_type": "code",
   "execution_count": null,
   "metadata": {},
   "outputs": [],
   "source": [
    "# now with the same options as before\n",
    "# NOTE: ignore the warning messages here\n",
    "splot.plotBatch(splist,features=['h2o','feh','co'],telluric=True,grid=True,yrange=[-0.05,1.2],output='myplot.pdf')\n"
   ]
  },
  {
   "cell_type": "code",
   "execution_count": null,
   "metadata": {},
   "outputs": [],
   "source": [
    "# plotBatch has a nice feature in that it can automatically classify spectra\n",
    "# NOTE: the scaling on this doesn't seem to be working properly right now!\n",
    "splot.plotBatch(splist,classify=True,normalize=True)\n"
   ]
  },
  {
   "cell_type": "code",
   "execution_count": null,
   "metadata": {},
   "outputs": [],
   "source": [
    "# here's an example of comparing all of our sources to one particular comparison source, the sdL0.0 standard\n",
    "# The subdwarf standards are contained in the splat.STDS_SD_SPEX variable\n",
    "comptype = 'sdL0.0'\n",
    "spcomp = splat.STDS_SD_SPEX[comptype]\n",
    "spcomp.normalize([0.9,1.4])\n",
    "names = ['{} vs {}'.format(sp.name,comptype) for sp in splist]\n",
    "\n",
    "splot.plotSpectrum(splist,multiplot=True,layout=[2,2],yrange=[-0.05,1.2],legend=names,comparison=spcomp,colorComparison='r')\n"
   ]
  }
 ],
 "metadata": {
  "kernelspec": {
   "display_name": "Python 3",
   "language": "python",
   "name": "python3"
  },
  "language_info": {
   "codemirror_mode": {
    "name": "ipython",
    "version": 3
   },
   "file_extension": ".py",
   "mimetype": "text/x-python",
   "name": "python",
   "nbconvert_exporter": "python",
   "pygments_lexer": "ipython3",
   "version": "3.7.7"
  }
 },
 "nbformat": 4,
 "nbformat_minor": 2
}
